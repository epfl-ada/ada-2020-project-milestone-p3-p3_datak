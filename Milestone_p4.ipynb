{
 "cells": [
  {
   "cell_type": "code",
   "execution_count": null,
   "metadata": {},
   "outputs": [],
   "source": [
    "\n",
    "import pandas as pd\n",
    "import pandas as pd\n",
    "import numpy as np\n",
    "import matplotlib.pyplot as plt\n",
    "%matplotlib inline\n",
    "import seaborn as sns\n",
    "import math\n",
    "from statsmodels.stats import diagnostic\n",
    "from scipy import stats\n",
    "import statsmodels.api as sm\n",
    "import statsmodels.formula.api as smf\n"
   ]
  },
  {
   "cell_type": "code",
   "execution_count": null,
   "metadata": {},
   "outputs": [],
   "source": [
    "#importing data\n",
    "data_folder = './Tesco Grocery/'\n",
    "\n",
    "Tesco_lsoa = pd.read_csv(data_folder + 'year_lsoa_grocery.csv')\n",
    "lsoa_data = pd.read_excel(data_folder + 'lsoa-data.xls','iadatasheet2',header=[0, 1, 2])\n",
    "\n",
    "#column's name\n",
    "'''for col in lsoa_data.columns: \n",
    "    print(col) '''\n",
    "    \n",
    "#create a DataFrame with indicators\n",
    "indicators=pd.DataFrame({\n",
    "    'area_id':lsoa_data[('Unnamed: 0_level_0', 'Unnamed: 0_level_1', 'Codes')],\n",
    "    'Unemployment Rate (%)':lsoa_data[('Economic Activity', 'Unemployment Rate', 2011)],\n",
    "    'Fatal road casualties':lsoa_data[('Road Casualties', 2011, 'Fatal')],\n",
    "    'Serious road casualties':lsoa_data[('Road Casualties', 2011, 'Serious')],\n",
    "    'Slight road casualties':lsoa_data[('Road Casualties', 2011, 'Slight')],\n",
    "    'Mean Annual Household Income estimate (£)':lsoa_data[('Household Income, 2011/12', 'Mean Annual Household Income estimate (£)', 'Unnamed: 72_level_2')],\n",
    "    'Median Annual Household Income estimate (£)':lsoa_data[('Household Income, 2011/12', 'Median Annual Household Income estimate (£)', 'Unnamed: 73_level_2')],\n",
    "    'No Qualification(%)':lsoa_data[('Qualifications', '% No qualifications', 2011)],\n",
    "    'High Qualification(%)':lsoa_data[('Qualifications', '% Highest level of qualification: Level 4 qualifications and above', 2011)]\n",
    "})\n",
    "\n",
    "indicators.head()"
   ]
  },
  {
   "cell_type": "code",
   "execution_count": null,
   "metadata": {},
   "outputs": [],
   "source": [
    "#merging datas\n",
    "df = pd.merge(indicators,Tesco_lsoa,on='area_id')\n",
    "df.head()"
   ]
  },
  {
   "cell_type": "code",
   "execution_count": null,
   "metadata": {},
   "outputs": [],
   "source": [
    "#Keep datas with representativness >0.1 \n",
    "df_representativ = df.loc[(df['representativeness_norm'] > 0.1)]\n",
    "non_representativ_areas=df.shape[0]-df_representativ.shape[0]\n",
    "print(non_representativ_areas,'areas are not representative and expulsed of our study')"
   ]
  },
  {
   "cell_type": "code",
   "execution_count": null,
   "metadata": {},
   "outputs": [],
   "source": [
    "#computing spearman correlation for each indicator\n",
    "id_indicators=['Unemployment Rate (%)','Fatal road casualties','Serious road casualties','Slight road casualties','Mean Annual Household Income estimate (£)','Median Annual Household Income estimate (£)','No Qualification(%)','High Qualification(%)']\n",
    "R=[]\n",
    "P=[]\n",
    "for i in id_indicators:\n",
    "    r= stats.spearmanr(df_representativ['volume'],df_representativ[i],nan_policy='omit')[0]\n",
    "    p= stats.spearmanr(df_representativ['volume'],df_representativ[i],nan_policy='omit')[1]\n",
    "    R.append(r)\n",
    "    P.append(p)"
   ]
  },
  {
   "cell_type": "code",
   "execution_count": 6,
   "metadata": {},
   "outputs": [
    {
     "data": {
      "text/html": [
       "<div>\n",
       "<style scoped>\n",
       "    .dataframe tbody tr th:only-of-type {\n",
       "        vertical-align: middle;\n",
       "    }\n",
       "\n",
       "    .dataframe tbody tr th {\n",
       "        vertical-align: top;\n",
       "    }\n",
       "\n",
       "    .dataframe thead th {\n",
       "        text-align: right;\n",
       "    }\n",
       "</style>\n",
       "<table border=\"1\" class=\"dataframe\">\n",
       "  <thead>\n",
       "    <tr style=\"text-align: right;\">\n",
       "      <th></th>\n",
       "      <th>Indicators</th>\n",
       "      <th>R</th>\n",
       "      <th>p-value</th>\n",
       "    </tr>\n",
       "  </thead>\n",
       "  <tbody>\n",
       "    <tr>\n",
       "      <th>0</th>\n",
       "      <td>Unemployment Rate (%)</td>\n",
       "      <td>0.435764</td>\n",
       "      <td>2.566883e-179</td>\n",
       "    </tr>\n",
       "    <tr>\n",
       "      <th>1</th>\n",
       "      <td>Fatal road casualties</td>\n",
       "      <td>-0.025896</td>\n",
       "      <td>1.070550e-01</td>\n",
       "    </tr>\n",
       "    <tr>\n",
       "      <th>2</th>\n",
       "      <td>Serious road casualties</td>\n",
       "      <td>-0.054971</td>\n",
       "      <td>6.193980e-04</td>\n",
       "    </tr>\n",
       "    <tr>\n",
       "      <th>3</th>\n",
       "      <td>Slight road casualties</td>\n",
       "      <td>-0.035158</td>\n",
       "      <td>2.865264e-02</td>\n",
       "    </tr>\n",
       "    <tr>\n",
       "      <th>4</th>\n",
       "      <td>Mean Annual Household Income estimate (£)</td>\n",
       "      <td>-0.512252</td>\n",
       "      <td>3.140066e-258</td>\n",
       "    </tr>\n",
       "    <tr>\n",
       "      <th>5</th>\n",
       "      <td>Median Annual Household Income estimate (£)</td>\n",
       "      <td>-0.490247</td>\n",
       "      <td>1.968424e-233</td>\n",
       "    </tr>\n",
       "    <tr>\n",
       "      <th>6</th>\n",
       "      <td>No Qualification(%)</td>\n",
       "      <td>0.487596</td>\n",
       "      <td>1.445833e-230</td>\n",
       "    </tr>\n",
       "    <tr>\n",
       "      <th>7</th>\n",
       "      <td>High Qualification(%)</td>\n",
       "      <td>-0.498968</td>\n",
       "      <td>4.820703e-243</td>\n",
       "    </tr>\n",
       "  </tbody>\n",
       "</table>\n",
       "</div>"
      ],
      "text/plain": [
       "                                    Indicators         R        p-value\n",
       "0                        Unemployment Rate (%)  0.435764  2.566883e-179\n",
       "1                        Fatal road casualties -0.025896   1.070550e-01\n",
       "2                      Serious road casualties -0.054971   6.193980e-04\n",
       "3                       Slight road casualties -0.035158   2.865264e-02\n",
       "4    Mean Annual Household Income estimate (£) -0.512252  3.140066e-258\n",
       "5  Median Annual Household Income estimate (£) -0.490247  1.968424e-233\n",
       "6                          No Qualification(%)  0.487596  1.445833e-230\n",
       "7                        High Qualification(%) -0.498968  4.820703e-243"
      ]
     },
     "execution_count": 6,
     "metadata": {},
     "output_type": "execute_result"
    }
   ],
   "source": [
    "#Create a data frame with the results\n",
    "results = pd.DataFrame({\n",
    "    'Indicators':id_indicators,\n",
    "    'R': R,\n",
    "    'p-value':P\n",
    "   \n",
    "    })\n",
    "results\n"
   ]
  },
  {
   "cell_type": "code",
   "execution_count": 7,
   "metadata": {},
   "outputs": [
    {
     "name": "stdout",
     "output_type": "stream",
     "text": [
      "1    Fatal road casualties\n",
      "Name: Indicators, dtype: object is not significative because its p-value is >0.05\n"
     ]
    }
   ],
   "source": [
    "non_significativ=results.loc[(results['p-value'] > 0.05)]\n",
    "print(non_significativ.Indicators,'is not significative because its p-value is >0.05')"
   ]
  },
  {
   "cell_type": "code",
   "execution_count": 8,
   "metadata": {},
   "outputs": [
    {
     "data": {
      "image/png": "[encoded data removed]",
      "text/plain": [
       "<Figure size 864x432 with 1 Axes>"
      ]
     },
     "metadata": {
      "needs_background": "light"
     },
     "output_type": "display_data"
    }
   ],
   "source": [
    "plt.figure(figsize=(12,6))\n",
    "\n",
    "#Background of the figure \n",
    "sns.set_style('darkgrid')\n",
    "\n",
    "#Green color for positive correlation and orange one for negative correlation\n",
    "green = sns.color_palette()[2]\n",
    "orange = sns.color_palette()[1]\n",
    "color = [green if R>0 else orange for R in results.R]\n",
    "\n",
    "\n",
    "plot = sns.barplot(data=results, x=\"Indicators\",y=\"R\",palette=color)\n",
    "plot.set_title('Alcohol consumption',size='x-large')\n",
    "plot.axhline(y=0, linestyle='-',linewidth=1.5, color='black')\n",
    "plot.set_xlabel('')\n",
    "plot.set_xticklabels(results.Indicators,rotation=90)\n",
    "plt.show()"
   ]
  },
  {
   "cell_type": "code",
   "execution_count": null,
   "metadata": {},
   "outputs": [],
   "source": []
  },
  {
   "cell_type": "code",
   "execution_count": null,
   "metadata": {},
   "outputs": [],
   "source": []
  }
 ],
 "metadata": {
  "kernelspec": {
   "display_name": "Python 3",
   "language": "python",
   "name": "python3"
  },
  "language_info": {
   "codemirror_mode": {
    "name": "ipython",
    "version": 3
   },
   "file_extension": ".py",
   "mimetype": "text/x-python",
   "name": "python",
   "nbconvert_exporter": "python",
   "pygments_lexer": "ipython3",
   "version": "3.8.3"
  }
 },
 "nbformat": 4,
 "nbformat_minor": 4
}
