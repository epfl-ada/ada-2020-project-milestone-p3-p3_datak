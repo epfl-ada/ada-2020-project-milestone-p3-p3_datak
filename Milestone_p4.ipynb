{
 "cells": [
  {
   "cell_type": "code",
   "execution_count": 1,
   "metadata": {},
   "outputs": [],
   "source": [
    "\n",
    "import pandas as pd\n",
    "import pandas as pd\n",
    "import numpy as np\n",
    "import matplotlib.pyplot as plt\n",
    "%matplotlib inline\n",
    "import seaborn as sns\n",
    "import math\n",
    "from statsmodels.stats import diagnostic\n",
    "from scipy import stats\n",
    "import statsmodels.api as sm\n",
    "import statsmodels.formula.api as smf\n"
   ]
  },
  {
   "cell_type": "code",
   "execution_count": null,
   "metadata": {},
   "outputs": [],
   "source": [
    "#importing data\n",
    "data_folder = './Tesco Grocery/'\n",
    "\n",
    "Tesco_lsoa = pd.read_csv(data_folder + 'year_lsoa_grocery.csv')\n",
    "lsoa_data = pd.read_excel(data_folder + 'lsoa-data.xls','iadatasheet2',header=[0, 1, 2])\n",
    "\n",
    "#column's name\n",
    "'''for col in lsoa_data.columns: \n",
    "    print(col) '''\n",
    "    \n",
    "#create a DataFrame with indicators\n",
    "indicators=pd.DataFrame({\n",
    "    'area_id':lsoa_data[('Unnamed: 0_level_0', 'Unnamed: 0_level_1', 'Codes')],\n",
    "    'Unemployment Rate (%)':lsoa_data[('Economic Activity', 'Unemployment Rate', 2011)],\n",
    "    'Fatal road casualties':lsoa_data[('Road Casualties', 2011, 'Fatal')],\n",
    "    'Serious road casualties':lsoa_data[('Road Casualties', 2011, 'Serious')],\n",
    "    'Slight road casualties':lsoa_data[('Road Casualties', 2011, 'Slight')],\n",
    "    'Mean Annual Household Income estimate (£)':lsoa_data[('Household Income, 2011/12', 'Mean Annual Household Income estimate (£)', 'Unnamed: 72_level_2')],\n",
    "    'Median Annual Household Income estimate (£)':lsoa_data[('Household Income, 2011/12', 'Median Annual Household Income estimate (£)', 'Unnamed: 73_level_2')],\n",
    "    'No Qualification(%)':lsoa_data[('Qualifications', '% No qualifications', 2011)],\n",
    "    'High Qualification(%)':lsoa_data[('Qualifications', '% Highest level of qualification: Level 4 qualifications and above', 2011)]\n",
    "})\n",
    "\n",
    "indicators.head()"
   ]
  },
  {
   "cell_type": "code",
   "execution_count": null,
   "metadata": {},
   "outputs": [],
   "source": [
    "#merging datas\n",
    "df = pd.merge(indicators,Tesco_lsoa,on='area_id')\n",
    "df.head()"
   ]
  },
  {
   "cell_type": "code",
   "execution_count": null,
   "metadata": {},
   "outputs": [],
   "source": [
    "#Keep datas with representativness >0.1 \n",
    "df_representativ = df.loc[(df['representativeness_norm'] > 0.1)]\n",
    "non_representativ_areas=df.shape[0]-df_representativ.shape[0]\n",
    "print(non_representativ_areas,'areas are not representative and expulsed of our study')"
   ]
  },
  {
   "cell_type": "code",
   "execution_count": null,
   "metadata": {},
   "outputs": [],
   "source": [
    "#computing spearman correlation for each indicator\n",
    "id_indicators=['Unemployment Rate (%)','Fatal road casualties','Serious road casualties','Slight road casualties','Slight road casualties','Mean Annual Household Income estimate (£)','Median Annual Household Income estimate (£)','No Qualification(%)','High Qualification(%)']\n",
    "R=[]\n",
    "P=[]\n",
    "for i in id_indicators:\n",
    "    r= stats.spearmanr(df_representativ['volume'],df_representativ[i],nan_policy='omit')[0]\n",
    "    p= stats.spearmanr(df_representativ['volume'],df_representativ[i],nan_policy='omit')[1]\n",
    "    R.append(r)\n",
    "    P.append(p)"
   ]
  },
  {
   "cell_type": "code",
   "execution_count": null,
   "metadata": {},
   "outputs": [],
   "source": [
    "#Create a data frame with the results\n",
    "results = pd.DataFrame({\n",
    "    'Indicators':id_indicators,\n",
    "    'R': R,\n",
    "    'p-value':P\n",
    "   \n",
    "    })\n",
    "results\n"
   ]
  },
  {
   "cell_type": "code",
   "execution_count": null,
   "metadata": {},
   "outputs": [],
   "source": [
    "non_significativ=results.loc[(results['p-value'] > 0.05)]\n",
    "print(non_significativ.Indicators,'is not significative because its p-value is >0.05')"
   ]
  },
  {
   "cell_type": "code",
   "execution_count": null,
   "metadata": {},
   "outputs": [],
   "source": [
    "plt.figure(figsize=(12,6))\n",
    "\n",
    "#Background of the figure \n",
    "sns.set_style('darkgrid')\n",
    "\n",
    "#Green color for positive correlation and orange one for negative correlation\n",
    "green = sns.color_palette()[2]\n",
    "orange = sns.color_palette()[1]\n",
    "color = [green if R>0 else orange for R in results.R]\n",
    "\n",
    "\n",
    "plot = sns.barplot(data=results, x=\"Indicators\",y=\"R\",palette=color)\n",
    "plot.set_title('Alcohol consumption',size='x-large')\n",
    "plot.axhline(y=0, linestyle='-',linewidth=1.5, color='black')\n",
    "plot.set_xlabel('')\n",
    "plot.set_xticklabels(results.Indicators,rotation=90)\n",
    "plt.show()"
   ]
  },
  {
   "cell_type": "code",
   "execution_count": null,
   "metadata": {},
   "outputs": [],
   "source": []
  },
  {
   "cell_type": "code",
   "execution_count": null,
   "metadata": {},
   "outputs": [],
   "source": []
  }
 ],
 "metadata": {
  "kernelspec": {
   "display_name": "Python 3",
   "language": "python",
   "name": "python3"
  },
  "language_info": {
   "codemirror_mode": {
    "name": "ipython",
    "version": 3
   },
   "file_extension": ".py",
   "mimetype": "text/x-python",
   "name": "python",
   "nbconvert_exporter": "python",
   "pygments_lexer": "ipython3",
   "version": "3.8.3"
  }
 },
 "nbformat": 4,
 "nbformat_minor": 4
}
